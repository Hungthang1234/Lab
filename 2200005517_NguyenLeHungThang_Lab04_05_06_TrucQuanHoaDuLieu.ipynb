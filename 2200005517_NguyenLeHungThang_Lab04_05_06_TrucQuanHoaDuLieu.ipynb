{
  "nbformat": 4,
  "nbformat_minor": 0,
  "metadata": {
    "colab": {
      "private_outputs": true,
      "provenance": []
    },
    "kernelspec": {
      "name": "python3",
      "display_name": "Python 3"
    },
    "language_info": {
      "name": "python"
    }
  },
  "cells": [
    {
      "cell_type": "code",
      "execution_count": null,
      "metadata": {
        "id": "9LyEhKzYdxEv"
      },
      "outputs": [],
      "source": [
        "import numpy as np\n",
        "import matplotlib.pyplot as plt\n",
        "import pandas as pd\n",
        "import seaborn as sns"
      ]
    },
    {
      "cell_type": "code",
      "source": [
        "marks =[72,40,33,90,100]\n",
        "bars = ('A','B','C','D','E')\n",
        "y_pos = np.arange(len(bars))\n",
        "plt.bar(y_pos,marks, color = 'r')\n",
        "\n",
        "plt.show()"
      ],
      "metadata": {
        "id": "wtCSrkSreGcu"
      },
      "execution_count": null,
      "outputs": []
    },
    {
      "cell_type": "code",
      "source": [
        "marks =[72,40,33,90,100]\n",
        "bars = ('Roll 1','Roll 2','Roll 3','Roll 4','Roll 5')\n",
        "y_pos = np.arange(len(bars))\n",
        "plt.bar(y_pos,marks, color = 'r')\n",
        "plt.xticks(y_pos,bars)\n",
        "plt.show()"
      ],
      "metadata": {
        "id": "wjQFd1dLeZD2"
      },
      "execution_count": null,
      "outputs": []
    },
    {
      "cell_type": "code",
      "source": [
        "marks =[72,40,33,90,100]\n",
        "bars = (' 1','2',' 3',' 4','5')\n",
        "y_pos = np.arange(len(bars))\n",
        "plt.barh(y_pos,marks, color = 'b')\n",
        "plt.yticks(y_pos,bars)\n",
        "plt.show()"
      ],
      "metadata": {
        "id": "BDvdRJBSeoM_"
      },
      "execution_count": null,
      "outputs": []
    },
    {
      "cell_type": "code",
      "source": [
        "Male = [30,34,37,35,27]\n",
        "Female = [25,32,34,40,25]\n",
        "group = ['Nhom 1','Nhom 2','Nhom 3','Nhom 4','Nhom 5']\n",
        "\n",
        "x = np.arange(len(group))\n",
        "\n",
        "width = 0.35\n",
        "\n",
        "fig,ax = plt.subplots()\n",
        "rects1 = ax.bar(x-width/2,Male,width, color ='g',label='Male')\n",
        "rects2 = ax.bar(x+width/2,Female,width,color = 'b',label='Female')\n",
        "\n",
        "ax.legend()\n",
        "ax.set_ylabel('Do tuoi')\n",
        "ax.set_title('Nhom tuoi va gioi tinh')\n",
        "ax.set_xticks(x)\n",
        "ax.set_xticklabels(group)\n",
        "\n",
        "plt.show()"
      ],
      "metadata": {
        "id": "fFuUxZJye_Oe"
      },
      "execution_count": null,
      "outputs": []
    },
    {
      "cell_type": "code",
      "source": [
        "# Tải dữ liệu tips có sẵn trong seaborn\n",
        "tips = sns.load_dataset('tips')\n",
        "\n",
        "# Xem các cột trong dữ liệu\n",
        "print(\"Các cột trong dữ liệu:\")\n",
        "print(tips.columns)\n",
        "\n",
        "# Tính tổng tiền tip theo từng ngày\n",
        "tip_per_day = tips.groupby('day')['tip'].sum()\n",
        "\n",
        "# Vẽ biểu đồ cột (Bar Chart)\n",
        "plt.figure(figsize=(8,6))\n",
        "tip_per_day.plot(kind='bar', color='skyblue', edgecolor='black')\n",
        "plt.title('Hiển thị số tiền thưởng trong ngày ($)', fontsize=14)\n",
        "plt.xlabel('Ngày trong tuần', fontsize=12)\n",
        "plt.ylabel('Tip (Tiền thưởng)', fontsize=12)\n",
        "plt.grid(axis='y', linestyle='--', alpha=0.6)\n",
        "plt.tight_layout()\n",
        "plt.show()"
      ],
      "metadata": {
        "id": "FQsAL0zGwNSR"
      },
      "execution_count": null,
      "outputs": []
    },
    {
      "cell_type": "markdown",
      "source": [
        "Lab 05"
      ],
      "metadata": {
        "id": "-Cjxb0qwgnQG"
      }
    },
    {
      "cell_type": "code",
      "source": [
        "x = [3,1,3,12,2,4,4,2,8,7,9,16,7,5,9,10]\n",
        "y = [3,2,1,4,5,6,7,2,4,4,9,13,15,8,9,7]\n",
        "plt.scatter(x,y)\n",
        "plt.title('Scatter Plot')\n",
        "plt.xlabel('X')\n",
        "plt.ylabel('Y')\n",
        "plt.show()"
      ],
      "metadata": {
        "id": "-b4Nn-Ibf8SI"
      },
      "execution_count": null,
      "outputs": []
    },
    {
      "cell_type": "code",
      "source": [
        "np.random.seed(13499202)\n",
        "N = 75\n",
        "x = np.random.rand(N)\n",
        "y = np.random.rand(N)\n",
        "colors = np.random.rand(N)\n",
        "area = (40 * np.random.rand(N))** 2\n",
        "plt.scatter(x,y,s=area,c=colors,alpha=0.5)\n",
        "plt.show()"
      ],
      "metadata": {
        "id": "ZhkZR8sNhzNp"
      },
      "execution_count": null,
      "outputs": []
    },
    {
      "cell_type": "code",
      "source": [
        "x = [89,43,36,36,95,10,66,34,38,20,46,3,35]\n",
        "y = [21,46,3,35,66,10,75,34,38,43,89,30,36]\n",
        "plt.scatter(x,y ,c=\"yellow\",\n",
        "            linewidths=2,\n",
        "            marker = \"s\",\n",
        "            edgecolors= \"green\",\n",
        "            s = 100)\n",
        "plt.xlabel(\"X-axis\")\n",
        "plt.ylabel(\"Y-axis\")\n",
        "plt.title(\"Scatter Plot\")\n",
        "plt.show()"
      ],
      "metadata": {
        "id": "S4Dt6hhWichp"
      },
      "execution_count": null,
      "outputs": []
    },
    {
      "cell_type": "code",
      "source": [
        "x1 = [89, 43, 36,\n",
        "36, 20,\n",
        "95, 26,\n",
        "10, 34,\n",
        "87,\n",
        "66,\n",
        "34,\n",
        "38,\n",
        "90,\n",
        "33]\n",
        "y1 = [21,\n",
        "46,\n",
        "3,\n",
        "26,\n",
        "34,\n",
        "90,\n",
        "33,\n",
        "35,\n",
        "53,\n",
        "72,\n",
        "58,\n",
        "10,\n",
        "67,\n",
        "95,\n",
        "120]\n",
        "x2= [26,\n",
        "29,\n",
        "48,\n",
        "20,\n",
        "56,\n",
        "2,\n",
        "48,\n",
        "20,\n",
        "56,\n",
        "36,\n",
        "66,\n",
        "72,\n",
        "20,\n",
        "56,\n",
        "2,\n",
        "47,\n",
        "40]\n",
        "y2 = [26,\n",
        "34,\n",
        "90,\n",
        "33,\n",
        "38,\n",
        "42,\n",
        "20,\n",
        "8,\n",
        "20,\n",
        "56,\n",
        "2,\n",
        "47,\n",
        "15,\n",
        "47,\n",
        "64,\n",
        "6, 5]"
      ],
      "metadata": {
        "id": "L254XJchjhG5"
      },
      "execution_count": null,
      "outputs": []
    },
    {
      "cell_type": "code",
      "source": [
        "# Vẽ biểu đồ scatter\n",
        "plt.scatter(x1, y1, marker='s', facecolors='none', edgecolors='red', s=100, label='Red Squares')  # hình vuông đỏ rỗng\n",
        "plt.scatter(x2, y2, marker='^', color='green', edgecolors='yellow', linewidths=2, s=200, label='Green Triangles')  # hình tam giác xanh\n",
        "\n",
        "# Gắn nhãn trục và tiêu đề\n",
        "plt.xlabel('X-axis')\n",
        "plt.ylabel('Y-axis')\n",
        "plt.title('Scatter Plot')\n",
        "plt.legend()\n",
        "plt.grid(True)\n",
        "\n",
        "# Hiển thị biểu đồ\n",
        "plt.show()"
      ],
      "metadata": {
        "id": "KD51lgD2j2uZ"
      },
      "execution_count": null,
      "outputs": []
    },
    {
      "cell_type": "code",
      "source": [
        "# Tạo dữ liệu ngẫu nhiên\n",
        "n1 = np.random.rand(20, 2)\n",
        "n2 = np.random.rand(20, 2)\n",
        "n3 = np.random.rand(20, 2)\n",
        "n4 = np.random.rand(20, 2)\n",
        "\n",
        "# Vẽ scatter plot với các kiểu khác nhau\n",
        "plt.scatter(n1[:, 0], n1[:, 1], c='blue', marker='^', label='blue')    # Tam giác lên\n",
        "plt.scatter(n2[:, 0], n2[:, 1], c='red', marker='v', label='red')      # Tam giác xuống\n",
        "plt.scatter(n3[:, 0], n3[:, 1], c='green', marker='*', label='green')  # Sao\n",
        "plt.scatter(n4[:, 0], n4[:, 1], c='orange', marker='o', label='orange')# Tròn\n",
        "\n",
        "# Hiển thị chú thích, lưới, và biểu đồ\n",
        "plt.legend()\n",
        "plt.grid(True)\n",
        "plt.show()"
      ],
      "metadata": {
        "id": "0GLD-MxbkRUI"
      },
      "execution_count": null,
      "outputs": []
    },
    {
      "cell_type": "markdown",
      "source": [
        "Lab 06"
      ],
      "metadata": {
        "id": "lU2QXCEPkbvg"
      }
    },
    {
      "cell_type": "code",
      "source": [
        "y = np.array([35,25,25,15])\n",
        "plt.pie(y)\n",
        "plt.show()"
      ],
      "metadata": {
        "id": "xqE7ZRYfkcui"
      },
      "execution_count": null,
      "outputs": []
    },
    {
      "cell_type": "code",
      "source": [
        "y = np.array([45,25,29,11])\n",
        "mylabels = ['Facebook','Zalo','Tiktok','Viber']\n",
        "plt.pie(y,labels=mylabels,startangle=90)\n",
        "plt.show()"
      ],
      "metadata": {
        "id": "jWUzQ7TWkqI6"
      },
      "execution_count": null,
      "outputs": []
    },
    {
      "cell_type": "code",
      "source": [
        "y = np.array([45,25,29,11])\n",
        "mylabels = ['Facebook','Zalo','Tiktok','Viber']\n",
        "myexplode = [0.1,0,0,0]\n",
        "plt.pie(y,labels=mylabels,explode=myexplode, shadow = True)\n",
        "plt.legend(loc = 'best',fontsize = 7)\n",
        "plt.show()"
      ],
      "metadata": {
        "id": "9UqLSW-Lk88o"
      },
      "execution_count": null,
      "outputs": []
    },
    {
      "cell_type": "code",
      "source": [
        "cars = ['AUDI', 'BMW','FORD','TOYOTA ', 'KIA','MERCERDES']\n",
        "data1 = [23,17,45,39,10,31]\n",
        "explode =(0.1,0,0.1,0,0,0)\n",
        "\n",
        "colors = ['orange', 'cyan', 'brown', 'green', 'yellow', 'beige']\n",
        "wp = {'linewidth' : 1 ,'edgecolor' : \"green\"}\n",
        "\n",
        "def func(pct,allvals):\n",
        "    absolute = int(pct/100.*np.sum(allvals))\n",
        "    return \"{:.1f}%\\n({:d} g)\".format(pct,absolute)\n",
        "\n",
        "\n",
        "fig, ax = plt.subplots(figsize=(10, 7))\n",
        "wedges, texts, autotexts = ax.pie(\n",
        "    data1,\n",
        "    autopct=lambda pct: func(pct, data1),\n",
        "    explode=explode,\n",
        "    labels=cars,\n",
        "    shadow=True,\n",
        "    colors=colors,\n",
        "    startangle=90,\n",
        "    wedgeprops=wp,\n",
        "    textprops=dict(size=12, color='black')  # 'colors' -> 'color'\n",
        ")\n",
        "\n",
        "ax.legend(wedges, cars,\n",
        "          title=\"Cars\",\n",
        "          loc=\"center left\",\n",
        "          bbox_to_anchor=(1, 0, 0.5, 1))\n",
        "\n",
        "plt.setp(autotexts, size=8, weight=\"bold\")\n",
        "plt.show()"
      ],
      "metadata": {
        "id": "b0KqRu17lQbi"
      },
      "execution_count": null,
      "outputs": []
    },
    {
      "cell_type": "code",
      "source": [
        "\n",
        "\n",
        "# Dữ liệu từ bảng\n",
        "nongsan = ['Bông cải xanh', 'Măng tây', 'Cà tím', 'Súp lơ', 'Đậu xanh',\n",
        "           'Cải xoăn', 'Nấm', 'Ớt', 'Cải bó xôi']\n",
        "donvi_ban = [145, 350, 280, 100, 547, 100, 475, 780, 642]\n",
        "\n",
        "# Vẽ Pie Chart\n",
        "plt.figure(figsize=(8, 8))\n",
        "plt.pie(donvi_ban, labels=nongsan, autopct='%1.1f%%', startangle=90)\n",
        "plt.title('Tỉ lệ phần trăm các hàng nông sản đã bán')\n",
        "plt.axis('equal')  # Đảm bảo hình tròn\n",
        "\n",
        "# Hiển thị biểu đồ\n",
        "plt.show()\n"
      ],
      "metadata": {
        "id": "G22qobErtnle"
      },
      "execution_count": null,
      "outputs": []
    }
  ]
}