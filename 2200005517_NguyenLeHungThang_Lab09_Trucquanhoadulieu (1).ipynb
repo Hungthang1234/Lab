{
  "nbformat": 4,
  "nbformat_minor": 0,
  "metadata": {
    "colab": {
      "private_outputs": true,
      "provenance": []
    },
    "kernelspec": {
      "name": "python3",
      "display_name": "Python 3"
    },
    "language_info": {
      "name": "python"
    }
  },
  "cells": [
    {
      "cell_type": "code",
      "execution_count": null,
      "metadata": {
        "id": "ulPWOXZMdflu"
      },
      "outputs": [],
      "source": [
        "import matplotlib.pyplot as plt\n",
        "import numpy as np\n",
        "import random"
      ]
    },
    {
      "cell_type": "code",
      "source": [
        "x =[1,3,2,33,43,4,36,39,22,24,13,42,45,6,35,23,52,55,53,59,19,16,12,21,4,43,12,23,11,90,21,34,67,31,89,79,1,65,13]\n",
        "plt.hist(x,bins=10)\n",
        "plt.show()"
      ],
      "metadata": {
        "id": "wTxMiW0Ie0Gk"
      },
      "execution_count": null,
      "outputs": []
    },
    {
      "cell_type": "code",
      "source": [
        "fig,ax = plt  .subplots(1,1)\n",
        "a = np.array([22,78,5,87,43,56,73,55,54,11,20,51,5,79,31,27])\n",
        "ax.hist(a,bins=[0,25,50,75,100])\n",
        "ax.set_title(\"histogram\")\n",
        "ax.set_xticks([0,25,50,75,100])\n",
        "ax.set_xlabel(\"x\")\n",
        "ax.set_ylabel(\"y\")\n",
        "plt.show()"
      ],
      "metadata": {
        "id": "CW6NCo0tgguN"
      },
      "execution_count": null,
      "outputs": []
    },
    {
      "cell_type": "code",
      "source": [
        "men_ages = 18,19,20,21,22,23,24,25,26,27\n",
        "women_ages = 22,28,30,39,12,33,41,22,43,18\n",
        "plt.hist([men_ages,women_ages],color =['blue','red'],label =  ['men','women'])\n",
        "plt.legend()\n",
        "plt.show()"
      ],
      "metadata": {
        "id": "t45hTjB0hcg8"
      },
      "execution_count": null,
      "outputs": []
    },
    {
      "cell_type": "code",
      "source": [
        "plt.rcParams[\"figure.figsize\"] = [7.00,3.50]\n",
        "plt.rcParams[\"figure.autolayout\"] = True\n",
        "y = [4,1,8,7,6,4,2,1,2,5]\n",
        "nbins = 10\n",
        "_,_, patches = plt.hist(y,bins=nbins)\n",
        "colors = [\"#\"+ ''.join([random.choice('01234567ABCDEF')for j in range(6) ]) for\n",
        "i  in range(nbins)]\n",
        "for patch in patches :\n",
        "    patch.set_facecolor(colors[np.random.randint(100) % nbins])\n",
        "    x = patch.get_x() + patch.get_width() / 2\n",
        "    y =  patch.get_height() + 0.5\n",
        "    plt.annotate('{:.1f}%'.format(y),(x,y),ha ='center')\n",
        "plt.ylim(0,3)\n",
        "plt.show()"
      ],
      "metadata": {
        "id": "B6yYz7qVi-Ck"
      },
      "execution_count": null,
      "outputs": []
    },
    {
      "cell_type": "code",
      "source": [
        "x =[1,3,2,33,43,4,36,39,22,24,13,42,45,6,35,23,52,55,53,59,19,16,12,21,4,43,12,23,11,90,21,34,67,31,89,79,1,65,13]\n",
        "plt.hist(x,bins=10,color = 'g',edgecolor = 'r')\n",
        "plt.show()"
      ],
      "metadata": {
        "id": "4oyjo8xtmAjc"
      },
      "execution_count": null,
      "outputs": []
    }
  ]
}